{
  "nbformat": 4,
  "nbformat_minor": 0,
  "metadata": {
    "colab": {
      "name": "Untitled0.ipynb",
      "provenance": []
    },
    "kernelspec": {
      "name": "python3",
      "display_name": "Python 3"
    }
  },
  "cells": [
    {
      "cell_type": "code",
      "metadata": {
        "id": "0Pxfr2YiT6Vo",
        "colab_type": "code",
        "colab": {
          "base_uri": "https://localhost:8080/",
          "height": 71
        },
        "outputId": "3929d99d-0aef-4611-9265-7a62066ecda9"
      },
      "source": [
        "import numpy as np\n",
        "\n",
        "%matplotlib inline\n",
        "import matplotlib.pyplot as plt\n",
        "import pandas as pd\n",
        "import seaborn as sns\n",
        "sns.set()\n",
        "plt.rcParams['figure.figsize'] = (10, 5)"
      ],
      "execution_count": 1,
      "outputs": [
        {
          "output_type": "stream",
          "text": [
            "/usr/local/lib/python3.6/dist-packages/statsmodels/tools/_testing.py:19: FutureWarning: pandas.util.testing is deprecated. Use the functions in the public API at pandas.testing instead.\n",
            "  import pandas.util.testing as tm\n"
          ],
          "name": "stderr"
        }
      ]
    },
    {
      "cell_type": "code",
      "metadata": {
        "id": "XPjCH4b3UCn0",
        "colab_type": "code",
        "colab": {}
      },
      "source": [
        "def update_beta_0(y, x, beta_1, tau, mu_0, tau_0):\n",
        "  N = len(y)\n",
        "  precision = tau_0 + tau * N\n",
        "  mean = tau_0 * mu_0 + tau * np.sum(y - beta_1 * x)\n",
        "  mean /= precision\n",
        "  return np.random.normal(mean, 1 / np.sqrt(precision))"
      ],
      "execution_count": 2,
      "outputs": []
    },
    {
      "cell_type": "code",
      "metadata": {
        "id": "GDnbvzHLeIyB",
        "colab_type": "code",
        "colab": {}
      },
      "source": [
        "def update_beta_1(y, x, beta_0, tau, mu_1, tau_1):\n",
        "  N = len(y)\n",
        "  precision = tau_1 + tau * np.sum(x * x)\n",
        "  mean = tau_1 * mu_1 + tau * np.sum((y - beta_0) * x)\n",
        "  mean /= precision\n",
        "  return np.random.normal(mean , 1 / np.sqrt(precision))"
      ],
      "execution_count": 3,
      "outputs": []
    },
    {
      "cell_type": "code",
      "metadata": {
        "id": "yMX59KnpaVDf",
        "colab_type": "code",
        "colab": {}
      },
      "source": [
        "def update_tau(y,x,beta_0,beta_1,alpha,beta):\n",
        "  N = len(y)\n",
        "  alpha_new = alpha + N / 2\n",
        "  excess_beta = y - beta_0 - beta_1 * x\n",
        "  beta_new = beta + (np.sum(excess_beta * excess_beta)) / 2\n",
        "  return np.random.gamma(alpha_new, 1 / beta_new)"
      ],
      "execution_count": 4,
      "outputs": []
    },
    {
      "cell_type": "code",
      "metadata": {
        "id": "fHT4hP0Cbgzo",
        "colab_type": "code",
        "colab": {
          "base_uri": "https://localhost:8080/",
          "height": 302
        },
        "outputId": "15503cbe-6f70-4555-f2bd-dff6e8ff06c7"
      },
      "source": [
        "beta_0_true = -1\n",
        "beta_1_true = 2\n",
        "tau_true = 1\n",
        "\n",
        "N = 500\n",
        "x = np.random.uniform(low = 0, high = 10, size = N)\n",
        "y = np.random.normal(beta_0_true + beta_1_true * x, 1 / np.sqrt(tau_true))\n",
        "\n",
        "synth_plot = plt.plot(x, y, \"o\")\n",
        "plt.xlabel(\"x\")\n",
        "plt.ylabel(\"y\")"
      ],
      "execution_count": 5,
      "outputs": [
        {
          "output_type": "execute_result",
          "data": {
            "text/plain": [
              "Text(0, 0.5, 'y')"
            ]
          },
          "metadata": {
            "tags": []
          },
          "execution_count": 5
        },
        {
          "output_type": "display_data",
          "data": {
            "image/png": "[encoded data removed]",
            "text/plain": [
              "<Figure size 432x288 with 1 Axes>"
            ]
          },
          "metadata": {
            "tags": [],
            "needs_background": "light"
          }
        }
      ]
    },
    {
      "cell_type": "markdown",
      "metadata": {
        "id": "XUmvrVNFcNrP",
        "colab_type": "text"
      },
      "source": [
        "Assuming that beta_0 follows Normal(mu_0 , 1/tau_0) and beta_1 follows Normal(mu_1, 1/tau_1) and tau follows Gamma(alpha,beta)"
      ]
    },
    {
      "cell_type": "code",
      "metadata": {
        "id": "BPfOUnqZbzQS",
        "colab_type": "code",
        "colab": {}
      },
      "source": [
        "## specify initial values\n",
        "init = {\"beta_0\": 1,\n",
        "        \"beta_1\": 0,\n",
        "        \"tau\": 2}\n",
        "\n",
        "## specify hyper parameters\n",
        "hypers = {\"mu_0\": 0,\n",
        "         \"tau_0\": 1,\n",
        "         \"mu_1\": 0,\n",
        "         \"tau_1\": 1,\n",
        "         \"alpha\": 2,\n",
        "         \"beta\": 1}"
      ],
      "execution_count": 6,
      "outputs": []
    },
    {
      "cell_type": "code",
      "metadata": {
        "id": "YiTyllyccAKD",
        "colab_type": "code",
        "colab": {}
      },
      "source": [
        "def gibbs(y, x, iters, init, hypers):\n",
        "    assert len(y) == len(x)\n",
        "    beta_0 = init[\"beta_0\"]\n",
        "    beta_1 = init[\"beta_1\"]\n",
        "    tau = init[\"tau\"]\n",
        "    \n",
        "    trace = np.zeros((iters, 3)) ## trace to store values of beta_0, beta_1, tau\n",
        "    \n",
        "    for it in range(iters):\n",
        "        beta_0 = update_beta_0(y, x, beta_1, tau, hypers[\"mu_0\"], hypers[\"tau_0\"])\n",
        "        beta_1 = update_beta_1(y, x, beta_0, tau, hypers[\"mu_1\"], hypers[\"tau_1\"])\n",
        "        tau = update_tau(y, x, beta_0, beta_1, hypers[\"alpha\"], hypers[\"beta\"])\n",
        "        trace[it,:] = np.array((beta_0, beta_1, tau))\n",
        "        \n",
        "    trace = pd.DataFrame(trace)\n",
        "    trace.columns = ['beta_0', 'beta_1', 'tau']\n",
        "        \n",
        "    return trace"
      ],
      "execution_count": 7,
      "outputs": []
    },
    {
      "cell_type": "code",
      "metadata": {
        "id": "zFXJiLx1ctHl",
        "colab_type": "code",
        "colab": {}
      },
      "source": [
        "iters = 1000\n",
        "trace = gibbs(y, x, iters, init, hypers)[:500]"
      ],
      "execution_count": 8,
      "outputs": []
    },
    {
      "cell_type": "code",
      "metadata": {
        "id": "4WerlQPld7BB",
        "colab_type": "code",
        "colab": {
          "base_uri": "https://localhost:8080/",
          "height": 302
        },
        "outputId": "2070bf0b-e510-4d09-cee4-e3a748d0b70f"
      },
      "source": [
        "traceplot = trace.plot()\n",
        "traceplot.set_xlabel(\"Iteration\")\n",
        "traceplot.set_ylabel(\"Parameter value\")"
      ],
      "execution_count": 9,
      "outputs": [
        {
          "output_type": "execute_result",
          "data": {
            "text/plain": [
              "Text(0, 0.5, 'Parameter value')"
            ]
          },
          "metadata": {
            "tags": []
          },
          "execution_count": 9
        },
        {
          "output_type": "display_data",
          "data": {
            "image/png": "[encoded data removed]",
            "text/plain": [
              "<Figure size 432x288 with 1 Axes>"
            ]
          },
          "metadata": {
            "tags": [],
            "needs_background": "light"
          }
        }
      ]
    }
  ]
}